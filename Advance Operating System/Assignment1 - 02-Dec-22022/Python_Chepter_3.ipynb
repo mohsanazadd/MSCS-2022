{
  "nbformat": 4,
  "nbformat_minor": 0,
  "metadata": {
    "colab": {
      "provenance": [],
      "authorship_tag": "ABX9TyP3QRDYKWEK+ohCYcKvD//4",
      "include_colab_link": true
    },
    "kernelspec": {
      "name": "python3",
      "display_name": "Python 3"
    },
    "language_info": {
      "name": "python"
    }
  },
  "cells": [
    {
      "cell_type": "markdown",
      "metadata": {
        "id": "view-in-github",
        "colab_type": "text"
      },
      "source": [
        "<a href=\"https://colab.research.google.com/github/mohsanazadd/MSCS-2022/blob/main/Advance%20Operating%20System/Python_Chepter_3.ipynb\" target=\"_parent\"><img src=\"https://colab.research.google.com/assets/colab-badge.svg\" alt=\"Open In Colab\"/></a>"
      ]
    },
    {
      "cell_type": "markdown",
      "source": [
        "# **CHEPTER 3**\n",
        "**Excersice 3.4**\n",
        "**Guest List:**\n",
        "If you could invite anyone, living or deceased, to dinner, who\n",
        "would you invite? Make a list that includes at least three people you’d like to\n",
        "invite to dinner. Then use your list to print a message to each person, inviting\n",
        "them to dinner."
      ],
      "metadata": {
        "id": "0pnNVmE3_qFO"
      }
    },
    {
      "cell_type": "code",
      "source": [
        "mohsans_guests = [\"Kamran\", \"Waleed\", \"Ali\"];\n",
        "print(\"Hi \"+mohsans_guests[0]+\", \"+mohsans_guests[1]+\", \"+mohsans_guests[2]+\", You all are invited for Dinner at Ramada on coming Sunday.\")"
      ],
      "metadata": {
        "colab": {
          "base_uri": "https://localhost:8080/"
        },
        "id": "RUZMzA7C_zH4",
        "outputId": "76a9f423-a2f8-464d-d9da-f0b40b8112a8"
      },
      "execution_count": null,
      "outputs": [
        {
          "output_type": "stream",
          "name": "stdout",
          "text": [
            "Hi Kamran, Waleed, Ali, You all are invited for Dinner at my home on coming Sunday.\n"
          ]
        }
      ]
    },
    {
      "cell_type": "markdown",
      "source": [
        "**Excersice 3.5 Changing Guest List:**\n",
        "You just heard that one of your guests can’t make the\n",
        "dinner, so you need to send out a new set of invitations. You’ll have to think of someone else to invite.\n",
        "\n",
        "\n",
        "*   Start with your program from Exercise 3-4. Add a print statement at the\n",
        "end of your program stating the name of the guest who can’t make it.\n",
        "*   Modify your list, replacing the name of the guest who can’t make it with\n",
        "the name of the new person you are inviting.\n",
        "*   Print a second set of invitation messages, one for each person who is still\n",
        "in your list."
      ],
      "metadata": {
        "id": "Eln_d4GJm2Ha"
      }
    },
    {
      "cell_type": "code",
      "source": [
        "mohsans_guests = [\"Kamran\", \"Waleed\", \"Ali\"];\n",
        "print(mohsans_guests[1]+\" Will not be able to join us for Dinner.\")\n",
        "\n",
        "mohsans_guests[1] = 'Usama';\n",
        "print(\"Hi \"+mohsans_guests[0]+\", You are invited for Dinner at Ramada on coming Sunday.\")\n",
        "print(\"Hi \"+mohsans_guests[1]+\", You are invited for Dinner at Ramada on coming Sunday.\")\n",
        "print(\"Hi \"+mohsans_guests[2]+\", You are invited for Dinner at Ramada on coming Sunday.\")"
      ],
      "metadata": {
        "colab": {
          "base_uri": "https://localhost:8080/"
        },
        "id": "AfU-DvZHm3nq",
        "outputId": "bc96af60-57db-4658-9758-2dfaa6a28263"
      },
      "execution_count": null,
      "outputs": [
        {
          "output_type": "stream",
          "name": "stdout",
          "text": [
            "Waleed Will not be able to join us for Dinner.\n",
            "Hi Kamran, You are invited for Dinner at my home on coming Sunday.\n",
            "Hi Usama, You are invited for Dinner at my home on coming Sunday.\n",
            "Hi Ali, You are invited for Dinner at my home on coming Sunday.\n"
          ]
        }
      ]
    },
    {
      "cell_type": "markdown",
      "source": [
        "**Excersice 3.6 More Guests:**: You just found a bigger dinner table, so now more space is available. Think of three more guests to invite to dinner.\n",
        "\n",
        "\n",
        "*   Start with your program from Exercise 3-4 or Exercise 3-5. Add a print\n",
        "statement to the end of your program informing people that you found a\n",
        "bigger dinner table.\n",
        "*   Use insert() to add one new guest to the beginning of your list\n",
        "*   Use insert() to add one new guest to the middle of your list.\n",
        "*   Use append() to add one new guest to the end of your list.\n",
        "*   Print a new set of invitation messages, one for each person in your list.a"
      ],
      "metadata": {
        "id": "BOX0lFM2neqS"
      }
    },
    {
      "cell_type": "code",
      "source": [
        "mohsans_guests = [\"Kamran\", \"Usama\", \"Ali\"];\n",
        "mohsans_guests.insert(0, \"Sajid\");\n",
        "mohsans_guests.insert(2, \"Arslan\");\n",
        "mohsans_guests.append(\"Navid\");\n",
        "print(\"Hello everyone, I found a bigger table for dinner.\\n\"+mohsans_guests[0]+\", \"+mohsans_guests[1]+\", \"+mohsans_guests[2]+\", \"+mohsans_guests[3]+\", \"+mohsans_guests[4]+\", \"+mohsans_guests[5]+\", you all are invited at same time and place\")"
      ],
      "metadata": {
        "colab": {
          "base_uri": "https://localhost:8080/"
        },
        "id": "dqNT-n1DnfBi",
        "outputId": "4ace8a48-9255-4093-b417-023f8f48f0a1"
      },
      "execution_count": null,
      "outputs": [
        {
          "output_type": "stream",
          "name": "stdout",
          "text": [
            "Hello everyone, I found a bigger table for dinner.\n",
            "Sajid, Kamran, Arslan, Usama, Ali, Navid, you all are invited at same time and place\n"
          ]
        }
      ]
    },
    {
      "cell_type": "markdown",
      "source": [
        "**Excersice 3.7 Shrinking Guest Lis:**: You just found out that your new dinner table won’t\n",
        "arrive in time for the dinner, and you have space for only two guests.\n",
        "\n",
        "\n",
        "*   Start with your program from Exercise 3-6. Add a new line that prints a\n",
        "message saying that you can invite only two people for dinner.\n",
        "*   Use pop() to remove guests from your list one at a time until only two\n",
        "names remain in your list. Each time you pop a name from your list, print\n",
        "a message to that person letting them know you’re sorry you can’t invite\n",
        "them to dinner.\n",
        "*   Print a message to each of the two people still on your list, letting them\n",
        "know they’re still invited.\n",
        "*   Use del to remove the last two names from your list, so you have an empty\n",
        "list. Print your list to make sure you actually have an empty list at the end\n",
        "of your program"
      ],
      "metadata": {
        "id": "1TxyC61wnyob"
      }
    },
    {
      "cell_type": "code",
      "source": [
        "mohsans_guests = [\"Kamran\", \"Usama\", \"Ali\"];\n",
        "mohsans_guests.insert(0, \"Sajid\");\n",
        "mohsans_guests.insert(2, \"Arslan\");\n",
        "mohsans_guests.append(\"Navid\");\n",
        "\n",
        "print(\"I am erally sorry to announce that my booking for Ramada is changed, now I can invite only two people\")\n",
        "removed1 = mohsans_guests.pop(0)\n",
        "print(\"Hi \"+removed1+\", Sorry I can't invite you to dinner\")\n",
        "removed2 = mohsans_guests.pop(0)\n",
        "print(\"Hi \"+removed2+\", Sorry I can't invite you to dinner\")\n",
        "removed3 = mohsans_guests.pop(0)\n",
        "print(\"Hi \"+removed3+\", Sorry I can't invite you to dinner\")\n",
        "removed4 = mohsans_guests.pop(0)\n",
        "print(\"Hi \"+removed4+\", Sorry I can't invite you to dinner\\n\")\n",
        "print(\"Hi \"+mohsans_guests[0]+\", You are still invited for the Dinner\")\n",
        "print(\"Hi \"+mohsans_guests[1]+\", You are still invited for the Dinner\")\n",
        "\n",
        "del mohsans_guests[0]\n",
        "del mohsans_guests[0]\n",
        "print(mohsans_guests)"
      ],
      "metadata": {
        "colab": {
          "base_uri": "https://localhost:8080/"
        },
        "id": "Y0Skc1S8nywK",
        "outputId": "fd208d12-f7d0-4524-ecb7-6e9fa4ea5863"
      },
      "execution_count": null,
      "outputs": [
        {
          "output_type": "stream",
          "name": "stdout",
          "text": [
            "I am erally sorry to announce that my booking for Ramada is changed, now I can invite only two people\n",
            "Hi Sajid, Sorry I can't invite you to dinner\n",
            "Hi Kamran, Sorry I can't invite you to dinner\n",
            "Hi Arslan, Sorry I can't invite you to dinner\n",
            "Hi Usama, Sorry I can't invite you to dinner\n",
            "\n",
            "Hi Ali, You are still invited for the Dinner\n",
            "Hi Navid, You are still invited for the Dinner\n",
            "[]\n"
          ]
        }
      ]
    }
  ]
}