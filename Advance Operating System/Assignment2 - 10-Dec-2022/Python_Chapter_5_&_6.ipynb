{
  "nbformat": 4,
  "nbformat_minor": 0,
  "metadata": {
    "colab": {
      "provenance": [],
      "authorship_tag": "ABX9TyOELcZiNC2c36ys+KOsniU8",
      "include_colab_link": true
    },
    "kernelspec": {
      "name": "python3",
      "display_name": "Python 3"
    },
    "language_info": {
      "name": "python"
    }
  },
  "cells": [
    {
      "cell_type": "markdown",
      "metadata": {
        "id": "view-in-github",
        "colab_type": "text"
      },
      "source": [
        "<a href=\"https://colab.research.google.com/github/mohsanazadd/MSCS-2022/blob/main/Advance%20Operating%20System/Assignment2%20-%2010-Dec-2022/Python_Chapter_5_%26_6.ipynb\" target=\"_parent\"><img src=\"https://colab.research.google.com/assets/colab-badge.svg\" alt=\"Open In Colab\"/></a>"
      ]
    },
    {
      "cell_type": "markdown",
      "source": [
        "# **CHAPTER 5 & 6**\n",
        "\n",
        "**5-2. More Conditional Tests:** You don’t have to limit the number of tests you\n",
        "create to 10. If you want to try more comparisons, write more tests and add\n",
        "them to conditional_tests.py. Have at least one True and one False result for\n",
        "each of the following:\n",
        "\n",
        "*   Tests for equality and inequality with strings\n",
        "*   Tests using the lower() function\n",
        "*   Numerical tests involving equality and inequality, greater than and less than, greater than or equal to, and less than or equal to\n",
        "*   Tests using the and keyword and the or keyword\n",
        "*   Test whether an item is in a list\n",
        "*   Test whether an item is not in a list"
      ],
      "metadata": {
        "id": "F40vbqyTFA99"
      }
    },
    {
      "cell_type": "code",
      "source": [
        "print(\"OUTPUT\")\n",
        "\n",
        "print(\"\\nString Comparison\")\n",
        "MyCity = \"Multan\"\n",
        "if MyCity==\"Multan\":\n",
        "  print(MyCity+\" equals Multan = Condition TRUE\")\n",
        "\n",
        "if MyCity==\"multan\":\n",
        "  print(MyCity+\" equals multan = Condition TRUE\")\n",
        "else:\n",
        "  print(MyCity+\" equals multan = Condition FALSE (Case not matched)\")\n",
        "\n",
        "\n",
        "if MyCity.lower()==\"multan\":\n",
        "  print(MyCity.lower()+\" equals multan = Condition TRUE (used lower function)\")\n",
        "\n",
        "\n",
        "print(\"\\n\\nNumarical Comparison\")\n",
        "MyAge = 30\n",
        "if (MyAge==30):\n",
        "  print(\"Yes my age is 30: TRUE\")\n",
        "\n",
        "if MyAge != 33:\n",
        "  print(\"TRUE My age is not equals 33\")\n",
        "\n",
        "if MyAge > 25:\n",
        "  print(\"TRUE My age is greater than 25\")\n",
        "\n",
        "if MyAge < 32:\n",
        "  print(\"TRUE My age is less than 32\")\n",
        "\n",
        "if MyAge >= 30:\n",
        "  print(\"TRUE My age is equals 30\")\n",
        "\n",
        "if MyAge <= 34:\n",
        "  print(\"TRUE My age is Less than 34\")\n",
        "\n",
        "\n",
        "print(\"\\n\\nMultiple Condition in one Statment and/or\")\n",
        "FvrtColor = \"Black\"\n",
        "if(FvrtColor==\"Black\" or FvrtColor==\"Blue\"):\n",
        "  print(\"TRUE: From Black and Blue, The Black is my Fvrt Color\")\n",
        "\n",
        "if(MyAge>30 and MyAge<=35):\n",
        "  print(\"TRUE: My age is between 31 to 35\")\n",
        "else:\n",
        "  print(\"FALSE: My age is not between 31 to 35, my age is 30\")\n",
        "\n",
        "\n",
        "print(\"\\n\\n\")\n",
        "FvrtFood = [\"Pizza\", \"Pasta\", \"Sweet\"]\n",
        "if \"Pizza\" in FvrtFood:\n",
        "  print(\"Yes Pizza is in the List\")\n",
        "else:\n",
        "  print(\"No Pizza is not my favourite\")\n",
        "\n",
        "\n",
        "print(\"\\n\\n\\n\")"
      ],
      "metadata": {
        "colab": {
          "base_uri": "https://localhost:8080/"
        },
        "id": "Pyp2rcA3FhzE",
        "outputId": "3568becb-b94d-49e7-eefc-22e0b273694b"
      },
      "execution_count": null,
      "outputs": [
        {
          "output_type": "stream",
          "name": "stdout",
          "text": [
            "OUTPUT\n",
            "\n",
            "String Comparison\n",
            "Multan equals Multan = Condition TRUE\n",
            "Multan equals multan = Condition FALSE (Case not matched)\n",
            "multan equals multan = Condition TRUE (used lower function)\n",
            "\n",
            "\n",
            "Numarical Comparison\n",
            "Yes my age is 30: TRUE\n",
            "TRUE My age is not equals 33\n",
            "TRUE My age is greater than 25\n",
            "TRUE My age is less than 32\n",
            "TRUE My age is equals 30\n",
            "TRUE My age is Less than 34\n",
            "\n",
            "\n",
            "Multiple Condition in one Statment and/or\n",
            "TRUE: From Black and Blue, The Black is my Fvrt Color\n",
            "FALSE: My age is not between 31 to 35, my age is 30\n",
            "\n",
            "\n",
            "\n",
            "Yes Pizza is in the List\n",
            "\n",
            "\n",
            "\n",
            "\n"
          ]
        }
      ]
    },
    {
      "cell_type": "markdown",
      "source": [
        "**6-3. Glossary:** A Python dictionary can be used to model an actual dictionary. However, to avoid confusion, let’s call it a glossary.\n",
        "*   Think of five programming words you’ve learned about in the previous chapters. Use these words as the keys in your glossary, and store their meanings as values.\n",
        "*   Print each word and its meaning as neatly formatted output. You might print the word followed by a colon and then its meaning, or print the word on one line and then print its meaning indented on a second line. Use the newline character (\\n) to insert a blank line between each word-meaning pair in your output."
      ],
      "metadata": {
        "id": "Uw1ahmdFFiek"
      }
    },
    {
      "cell_type": "code",
      "source": [
        "mohsan_glossary = {\"variable\":\"is a regester to store some values\", \"array\":\"To store set of values or multiple values\", \"Control Statments\":\"Are the statments that control code blocks like If, Else, Case\", \"Loops\":\"To repeate some set of code multiple times based on the data or given range\", \"Lists\":\"To store sequence/set of data\"}\n",
        "print(\"OUTPUT\")\n",
        "for key, val in mohsan_glossary.items():\n",
        "  print(key.title()+\": \"+val+\"\\n\")\n",
        "\n",
        "print(\"\\n\\n\\n\")"
      ],
      "metadata": {
        "id": "fTEOuLuQFqmc",
        "colab": {
          "base_uri": "https://localhost:8080/"
        },
        "outputId": "2336f27c-e3ec-4140-fd05-37a87d168d6b"
      },
      "execution_count": 3,
      "outputs": [
        {
          "output_type": "stream",
          "name": "stdout",
          "text": [
            "OUTPUT\n",
            "Variable: is a regester to store some values\n",
            "\n",
            "Array: To store set of values or multiple values\n",
            "\n",
            "Control Statments: Are the statments that control code blocks like If, Else, Case\n",
            "\n",
            "Loops: To repeate some set of code multiple times based on the data or given range\n",
            "\n",
            "Lists: To store sequence/set of data\n",
            "\n",
            "\n",
            "\n",
            "\n",
            "\n"
          ]
        }
      ]
    },
    {
      "cell_type": "markdown",
      "source": [
        "**6-11. Cities:** Make a dictionary called cities. Use the names of three cities as keys in your dictionary. Create a dictionary of information about each city and include the country that the city is in, its approximate population, and one fact about that city. The keys for each city’s dictionary should be something like country, population, and fact. Print the name of each city and all of the information you have stored about it."
      ],
      "metadata": {
        "id": "BHkkVpI8Fq3L"
      }
    },
    {
      "cell_type": "code",
      "source": [
        "print(\"OUTPUT\")\n",
        "cities = {\n",
        "    \"Multan\":{\n",
        "        \"country\":\"Pakistan\",\n",
        "        \"population\":\"2 million\",\n",
        "        \"fact\":\"Called City Of Saints\"\n",
        "    },\n",
        "    \"Istanbul\":{\n",
        "        \"country\":\"Turkey\",\n",
        "        \"population\":\"15 million\",\n",
        "        \"fact\":\"lying in both Europe and Asia\"\n",
        "    },\n",
        "    \"Lahore\":{\n",
        "        \"country\":\"Pakistan\",\n",
        "        \"population\":\"13 million\",\n",
        "        \"fact\":\"Most polluted city in the world\"\n",
        "    },\n",
        "}\n",
        "\n",
        "for city, info in cities.items():\n",
        "  print(city+\" is a city of \"+info['country']+\", it's estimated population is \"+info['population']+\", and \"+city+\" is \"+info['fact']+\".\")\n",
        "\n",
        "print(\"\\n\\n\\n\")"
      ],
      "metadata": {
        "id": "ntdcFdI4F-Cs",
        "colab": {
          "base_uri": "https://localhost:8080/"
        },
        "outputId": "c17e3f21-b850-496b-eefe-ddeb58541044"
      },
      "execution_count": 5,
      "outputs": [
        {
          "output_type": "stream",
          "name": "stdout",
          "text": [
            "OUTPUT\n",
            "Multan is a city of Pakistan, it's estimated population is 2 million, and Multan is Called City Of Saints.\n",
            "Istanbul is a city of Turkey, it's estimated population is 15 million, and Istanbul is lying in both Europe and Asia.\n",
            "Lahore is a city of Pakistan, it's estimated population is 13 million, and Lahore is Most polluted city in the world.\n",
            "\n",
            "\n",
            "\n",
            "\n"
          ]
        }
      ]
    }
  ]
}