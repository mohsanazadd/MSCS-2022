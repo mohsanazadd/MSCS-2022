{
  "nbformat": 4,
  "nbformat_minor": 0,
  "metadata": {
    "colab": {
      "provenance": [],
      "authorship_tag": "ABX9TyPWd6mNTdguqRrIN+MlzYHZ",
      "include_colab_link": true
    },
    "kernelspec": {
      "name": "python3",
      "display_name": "Python 3"
    },
    "language_info": {
      "name": "python"
    }
  },
  "cells": [
    {
      "cell_type": "markdown",
      "metadata": {
        "id": "view-in-github",
        "colab_type": "text"
      },
      "source": [
        "<a href=\"https://colab.research.google.com/github/mohsanazadd/MSCS-2022/blob/main/Advance%20Operating%20System/Assignment2%20-%2010-Dec-2022/Chapter_4.ipynb\" target=\"_parent\"><img src=\"https://colab.research.google.com/assets/colab-badge.svg\" alt=\"Open In Colab\"/></a>"
      ]
    },
    {
      "cell_type": "markdown",
      "source": [
        "# **Chapter-4**\n",
        "\n",
        "**4-11. My Pizzas, Your Pizzas:** Start with your program from Exercise 4-1\n",
        "(page 60). Make a copy of the list of pizzas, and call it friend_pizzas.\n",
        "Then, do the following:\n",
        "\n",
        "\n",
        "*   Add a new pizza to the original list.\n",
        "*   Add a different pizza to the list friend_pizzas.\n",
        "*   Prove that you have two separate lists. Print the message, My favorite\n",
        "pizzas are:, and then use a for loop to print the first list. Print the message,\n",
        "My friend’s favorite pizzas are:, and then use a for loop to print the second list. Make sure each new pizza is stored in the appropriate list."
      ],
      "metadata": {
        "id": "g0aIhQG7WPIg"
      }
    },
    {
      "cell_type": "code",
      "source": [
        "mohsan_pizzas = ['Pepperoni', 'Margherita', 'Hawaiian']\n",
        "mohsan_friend_pizzas = mohsan_pizzas[:]\n",
        "\n",
        "mohsan_pizzas.append('Fajita');\n",
        "mohsan_friend_pizzas.append('BBQ');\n",
        "\n",
        "print(\"OUTPUT\")\n",
        "myFvrt = \"\"\n",
        "for i in range(len(mohsan_pizzas)):\n",
        "  if(i+1==len(mohsan_pizzas)):\n",
        "    myFvrt += \"and \"+mohsan_pizzas[i]\n",
        "  else:\n",
        "    myFvrt += mohsan_pizzas[i]+\", \"\n",
        "\n",
        "print(\"My favorite pizzas are: \"+myFvrt)\n",
        "\n",
        "FrndFvrt = \"\"\n",
        "for i in range(len(mohsan_friend_pizzas)):\n",
        "  if(i+1==len(mohsan_friend_pizzas)):\n",
        "    FrndFvrt += \"and \"+mohsan_friend_pizzas[i]\n",
        "  else:\n",
        "    FrndFvrt += mohsan_friend_pizzas[i]+\", \"\n",
        "\n",
        "print(\"My friend’s favorite pizzas are: \"+FrndFvrt)\n",
        "print(\"\\n\\n\\n\\n\")"
      ],
      "metadata": {
        "colab": {
          "base_uri": "https://localhost:8080/"
        },
        "id": "SMvKAU7wWcqM",
        "outputId": "49f0c93e-86d5-45e0-8dfa-6b2f07ae5eec"
      },
      "execution_count": 2,
      "outputs": [
        {
          "output_type": "stream",
          "name": "stdout",
          "text": [
            "OUTPUT\n",
            "My favorite pizzas are: Pepperoni, Margherita, Hawaiian, and Fajita\n",
            "My friend’s favorite pizzas are: Pepperoni, Margherita, Hawaiian, and BBQ\n",
            "\n",
            "\n",
            "\n",
            "\n",
            "\n"
          ]
        }
      ]
    },
    {
      "cell_type": "markdown",
      "source": [
        "**4-13. Buffet:** A buffet-style restaurant offers only five basic foods. Think of five simple foods, and store them in a tuple.\n",
        "\n",
        "*   Use a for loop to print each food the restaurant offers.\n",
        "*   Try to modify one of the items, and make sure that Python rejects the change\n",
        "*   The restaurant changes its menu, replacing two of the items with different\n",
        "foods. Add a block of code that rewrites the tuple, and then use a for loop to print each of the items on the revised menu."
      ],
      "metadata": {
        "id": "6m8ikqsCat9B"
      }
    },
    {
      "cell_type": "code",
      "source": [
        "mohsan_buffet = ('CHICKEN RESHMI KABAB', 'FISH TIKKA', 'CHICKEN BIRYANI', 'SOUP', 'CUSTARD')\n",
        "print(\"OUTPUT\")\n",
        "menu = \"\"\n",
        "for item in mohsan_buffet:\n",
        "  menu += item+\", \"\n",
        "print(\"Today Buffet Menu: \"+menu[:-2]+\"\\n\\n\")\n",
        "\n",
        "#This Will be Rejected (error)\n",
        "mohsan_buffet[4] = 'ICE CREAM'"
      ],
      "metadata": {
        "colab": {
          "base_uri": "https://localhost:8080/",
          "height": 269
        },
        "id": "h-vvfDqpa5Gy",
        "outputId": "56320ccb-ad58-4d19-de17-ffe17d6f3696"
      },
      "execution_count": 4,
      "outputs": [
        {
          "output_type": "stream",
          "name": "stdout",
          "text": [
            "OUTPUT\n",
            "Today Buffet Menu: CHICKEN RESHMI KABAB, FISH TIKKA, CHICKEN BIRYANI, SOUP, CUSTARD\n",
            "\n",
            "\n"
          ]
        },
        {
          "output_type": "error",
          "ename": "TypeError",
          "evalue": "ignored",
          "traceback": [
            "\u001b[0;31m---------------------------------------------------------------------------\u001b[0m",
            "\u001b[0;31mTypeError\u001b[0m                                 Traceback (most recent call last)",
            "\u001b[0;32m<ipython-input-4-0ff7e5000e06>\u001b[0m in \u001b[0;36m<module>\u001b[0;34m\u001b[0m\n\u001b[1;32m      7\u001b[0m \u001b[0;34m\u001b[0m\u001b[0m\n\u001b[1;32m      8\u001b[0m \u001b[0;31m#This Will be Rejected (error)\u001b[0m\u001b[0;34m\u001b[0m\u001b[0;34m\u001b[0m\u001b[0;34m\u001b[0m\u001b[0m\n\u001b[0;32m----> 9\u001b[0;31m \u001b[0mmohsan_buffet\u001b[0m\u001b[0;34m[\u001b[0m\u001b[0;36m4\u001b[0m\u001b[0;34m]\u001b[0m \u001b[0;34m=\u001b[0m \u001b[0;34m'ICE CREAM'\u001b[0m\u001b[0;34m\u001b[0m\u001b[0;34m\u001b[0m\u001b[0m\n\u001b[0m",
            "\u001b[0;31mTypeError\u001b[0m: 'tuple' object does not support item assignment"
          ]
        }
      ]
    },
    {
      "cell_type": "code",
      "source": [
        "mohsan_buffet = ('MUTTON RIBS', 'FISH TIKKA', 'KABULI PALAO', 'SOUP', 'CUSTARD')\n",
        "print(\"OUTPUT\")\n",
        "updated_menu = \"\"\n",
        "for item in mohsan_buffet:\n",
        "  updated_menu += item+\", \"\n",
        "print(\"\\nBuffet Updated Menu : \"+updated_menu[:-2])"
      ],
      "metadata": {
        "colab": {
          "base_uri": "https://localhost:8080/"
        },
        "id": "eIJtqfeVfdOQ",
        "outputId": "1282fb62-694f-4b77-e590-ef6f5eedcd22"
      },
      "execution_count": 3,
      "outputs": [
        {
          "output_type": "stream",
          "name": "stdout",
          "text": [
            "OUTPUT\n",
            "\n",
            "Buffet Updated Menu : MUTTON RIBS, FISH TIKKA, KABULI PALAO, SOUP, CUSTARD\n"
          ]
        }
      ]
    }
  ]
}